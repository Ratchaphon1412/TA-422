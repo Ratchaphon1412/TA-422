{
  "cells": [
    {
      "cell_type": "code",
      "execution_count": 9,
      "metadata": {
        "colab": {
          "base_uri": "https://localhost:8080/"
        },
        "id": "kqxe64DY_9y-",
        "outputId": "b1a82dc3-d73e-4c50-f462-d785950dd11a"
      },
      "outputs": [],
      "source": [
        "import pandas as pd\n",
        "import numpy as np\n",
        "import matplotlib.pyplot as plt\n",
        "\n",
        "# from google.colab import drive\n",
        "# drive.mount(\"/content/drive\")"
      ]
    },
    {
      "cell_type": "code",
      "execution_count": 10,
      "metadata": {
        "colab": {
          "base_uri": "https://localhost:8080/",
          "height": 907
        },
        "id": "AkprdqvnGGj5",
        "outputId": "fc590df0-0524-4350-decf-a3c45ff2cf9e"
      },
      "outputs": [
        {
          "name": "stderr",
          "output_type": "stream",
          "text": [
            "/var/folders/wy/hn7gr__x2yg_fd53bwmfc7p40000gn/T/ipykernel_21127/492466291.py:70: MatplotlibDeprecationWarning: Passing the emit parameter of set_xlim() positionally is deprecated since Matplotlib 3.6; the parameter will become keyword-only two minor releases later.\n",
            "  plt.xlim(0,20,60,5)\n"
          ]
        },
        {
          "data": {
            "image/png": "[encoded data removed]",
            "text/plain": [
              "<Figure size 1000x1000 with 1 Axes>"
            ]
          },
          "metadata": {},
          "output_type": "display_data"
        }
      ],
      "source": [
        "# ---\n",
        "# Group No. 5\n",
        "# 1. นาย พุฒิพงศ์ ขำสุวรรณ 6410450559\n",
        "# 2. นาย ธนสาร วิริยะสุนทรวงศ์ 6410450460\n",
        "# 3. นาย ศรัณย์ ธราพร 6410451857\n",
        "# 4.\n",
        "# ---\n",
        "\n",
        "group = 5 # อย่าลืมเปลี่ยนเลขกลุ่ม\n",
        "problem = 2 # ปัญหาที่\n",
        "data_num = 5 # ชุดข้อมูลที่\n",
        "\n",
        "# ชุดข้อมูลเก็บใน /in\n",
        "in_path = \"./dataset/P\"+str(problem)+\"/in/\"\n",
        "data_path = in_path+\"p\"+str(problem)+\"_input_dataset_\"+str(data_num)+\".txt\"\n",
        "\n",
        "# ผลลัพธ์เก็บใน /out\n",
        "out_path = \"./dataset/P\"+str(problem)+\"/out/\"\n",
        "result_path = out_path+\"p\"+str(problem)+\"_group\"+str(group)+\"-output\"+str(data_num)+\".csv\"\n",
        "png_path = out_path+\"p\"+str(problem)+\"_group\"+str(group)+\"-plot\"+str(data_num)+\".png\"\n",
        "\n",
        "# อ่านข้อมูล\n",
        "data = pd.read_csv(data_path)\n",
        "\n",
        "# --- เริ่มเขียนโค้ดตรงนี้ ---\n",
        "\n",
        "data = pd.read_csv(data_path, sep='\\s+', engine='python')\n",
        "\n",
        "# คำนวณค่าเฉลี่ยของอายุของทั้งกลุ่ม\n",
        "average_age = data['Age'].mean()\n",
        "\n",
        "# สร้างฟังก์ชันเพื่อแทนค่า NaN ด้วยค่าเฉลี่ยของอายุของทั้งกลุ่ม\n",
        "column_mean = data['Age'].mean()\n",
        "\n",
        "# แทนค่า NaN (Not a Number) ด้วยค่าเฉลี่ยของคอลัมน์\n",
        "data['Age'] = data['Age'].fillna(average_age)\n",
        "\n",
        "# กำหนดตัวแปรมารับค่า data ก่อนที่ค่าจะถูกเปลี่ยนเป็นช่วงๆ\n",
        "data1=data\n",
        "\n",
        "# คำนวณการกระจายตัวของกลุ่มอายุ\n",
        "age_groups = pd.cut(data['Age'], bins=[20, 30, 40, 50, 60,])\n",
        "age_distribution = age_groups.value_counts().sort_index()\n",
        "\n",
        "# เปลี่ยนชื่อคอลัมน์\n",
        "data = age_groups.value_counts().reset_index()\n",
        "data.columns = ['Age Group', 'Number of Patients']\n",
        "\n",
        "# ขนาดของกราฟเป็น 1000*1000\n",
        "plt.figure(figsize=(10, 10))\n",
        "\n",
        "# ตั้งชื่อกราฟ\n",
        "plt.title(\"Age Distribution of Patients\")\n",
        "\n",
        "# กำหนดชื่อแกน\n",
        "plt.xlabel(\"Age\")\n",
        "plt.ylabel(\"Number of Patients\")\n",
        "\n",
        "# สร้างตัวแปร data_Age เป็น list เพื่อมารับข้อมูลใน Age ของ Data1\n",
        "data_Age=[]\n",
        "for i2 in data1[\"Age\"]:\n",
        "  data_Age.append(i2)\n",
        "\n",
        "# สร้างตัวแปร Range_Age ซึ่งกำหนดช่วงอายุต่ำสุดและสูงสุด เพื่อให้แบ่งเป็นช่วงให้พอดี 4 ช่วง โดยตั้งข้อมูลตัวแรกสุดเป็น 20 และตัวสุดท้ายเป็น 60\n",
        "Range_Age=sorted(data_Age)\n",
        "Range_Age[0]=20\n",
        "Range_Age[len(Range_Age)-1]=60\n",
        "\n",
        "# กำหนดค่าของแกนในแนวตั้งและแนวนอน\n",
        "plt.xlim(0,20,60,5)\n",
        "\n",
        "# กำหนดสีของแท่งกราฟ กำหนดช่วงแบ่งออกเป็น 4 ช่วง สีช่วงเป็นสีน้ำเงิน เส้นรอบรูปของแท่งกราฟเป็นสีดำ\n",
        "plt.hist(Range_Age, bins=4, color=\"blue\",edgecolor='black')\n",
        "\n",
        "# --- สิ้นสุดโค้ดตรงนี้ ---\n",
        "\n",
        "# เซฟผลลัพธ์\n",
        "data.to_csv(result_path, index=False)\n",
        "\n",
        "# แสดงผลลัพธ์\n",
        "data.head()\n",
        "\n",
        "# เซฟกราฟ\n",
        "plt.savefig(png_path, dpi=100)\n",
        "\n",
        "# แสดงผลกราฟ\n",
        "plt.show()"
      ]
    }
  ],
  "metadata": {
    "colab": {
      "provenance": []
    },
    "kernelspec": {
      "display_name": "Python 3",
      "name": "python3"
    },
    "language_info": {
      "codemirror_mode": {
        "name": "ipython",
        "version": 3
      },
      "file_extension": ".py",
      "mimetype": "text/x-python",
      "name": "python",
      "nbconvert_exporter": "python",
      "pygments_lexer": "ipython3",
      "version": "3.10.8"
    }
  },
  "nbformat": 4,
  "nbformat_minor": 0
}
